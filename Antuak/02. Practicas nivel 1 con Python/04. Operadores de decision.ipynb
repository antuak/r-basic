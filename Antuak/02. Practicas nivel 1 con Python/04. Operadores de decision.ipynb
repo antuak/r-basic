{
 "cells": [
  {
   "cell_type": "markdown",
   "metadata": {},
   "source": [
    "# Operadores de decisión"
   ]
  },
  {
   "cell_type": "markdown",
   "metadata": {},
   "source": [
    "Cumpliendo una condición booleana"
   ]
  },
  {
   "cell_type": "markdown",
   "metadata": {},
   "source": [
    "## Sentencia If"
   ]
  },
  {
   "cell_type": "code",
   "execution_count": 16,
   "metadata": {},
   "outputs": [
    {
     "name": "stdout",
     "output_type": "stream",
     "text": [
      "Ingrese un numero: 5\n"
     ]
    }
   ],
   "source": [
    "x = int(input(\"Ingrese un numero: \"))"
   ]
  },
  {
   "cell_type": "code",
   "execution_count": 17,
   "metadata": {},
   "outputs": [
    {
     "name": "stdout",
     "output_type": "stream",
     "text": [
      "Su número es 5\n"
     ]
    }
   ],
   "source": [
    "if x > 5:\n",
    "    print(\"Su número es mayor a 5\")\n",
    "elif x < 5:\n",
    "    print(\"Su número es menor a 5\")\n",
    "else:\n",
    "    print(\"Su número es 5\")"
   ]
  },
  {
   "cell_type": "markdown",
   "metadata": {},
   "source": [
    "# Operadores lógicos"
   ]
  },
  {
   "cell_type": "markdown",
   "metadata": {},
   "source": [
    "## Operador and"
   ]
  },
  {
   "cell_type": "code",
   "execution_count": 22,
   "metadata": {},
   "outputs": [
    {
     "name": "stdout",
     "output_type": "stream",
     "text": [
      "Ingrese un número entre 1 y 10: 1\n",
      "Su número está entre 5 y 10\n"
     ]
    }
   ],
   "source": [
    "x = int(input(\"Ingrese un número entre 1 y 10: \"))\n",
    "if x > 1 and x < 5:\n",
    "    print(\"Su número está en entre 1 y 5\")\n",
    "else:\n",
    "    print(\"Su número está entre 5 y 10\")"
   ]
  },
  {
   "cell_type": "markdown",
   "metadata": {},
   "source": [
    "## Operador or"
   ]
  },
  {
   "cell_type": "code",
   "execution_count": 29,
   "metadata": {},
   "outputs": [
    {
     "name": "stdout",
     "output_type": "stream",
     "text": [
      "Ingrese un numero del 1 al 10: 3\n",
      "Registro exitoso, su numero es: 3\n"
     ]
    }
   ],
   "source": [
    "x = int(input(\"Ingrese un numero del 1 al 10: \"))\n",
    "if x < 0 or x > 10:\n",
    "    print(\"Numero inválido...\")\n",
    "else:\n",
    "    print(\"Registro exitoso, su numero es: \" + str(x))"
   ]
  },
  {
   "cell_type": "code",
   "execution_count": null,
   "metadata": {},
   "outputs": [],
   "source": []
  }
 ],
 "metadata": {
  "kernelspec": {
   "display_name": "Python 3",
   "language": "python",
   "name": "python3"
  },
  "language_info": {
   "codemirror_mode": {
    "name": "ipython",
    "version": 3
   },
   "file_extension": ".py",
   "mimetype": "text/x-python",
   "name": "python",
   "nbconvert_exporter": "python",
   "pygments_lexer": "ipython3",
   "version": "3.7.9"
  }
 },
 "nbformat": 4,
 "nbformat_minor": 4
}
